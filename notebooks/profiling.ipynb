{
 "cells": [
  {
   "cell_type": "code",
   "execution_count": 2,
   "metadata": {},
   "outputs": [],
   "source": [
    "from vlm.hf_qwen2vl import HF_Qwen2_Chatbot\n",
    "from PIL import Image\n",
    "import time"
   ]
  },
  {
   "cell_type": "code",
   "execution_count": 3,
   "metadata": {},
   "outputs": [
    {
     "name": "stderr",
     "output_type": "stream",
     "text": [
      "INFO:root:Using device: cuda\n",
      "Unrecognized keys in `rope_scaling` for 'rope_type'='default': {'mrope_section'}\n",
      "`Qwen2VLRotaryEmbedding` can now be fully parameterized by passing the model config through the `config` argument. All other arguments will be removed in v4.46\n",
      "INFO:accelerate.utils.modeling:We will use 90% of the memory on device 0 for storing the model, and 10% for the buffer to avoid OOM. You can set `max_memory` in to a higher value to use more memory (at your own risk).\n",
      "Loading checkpoint shards: 100%|██████████████████████████████████████████████████████████████████████████████████████████████████████████████████████████████████████████████████████| 2/2 [00:00<00:00,  2.57it/s]\n"
     ]
    }
   ],
   "source": [
    "llm = HF_Qwen2_Chatbot()"
   ]
  },
  {
   "cell_type": "code",
   "execution_count": 4,
   "metadata": {},
   "outputs": [],
   "source": [
    "prompt = \"Tell me more about the Vietnam war\"\n",
    "image = Image.open(\"/home/yibbtstll/Downloads/multimodal-retrieval-architecture.png\")"
   ]
  },
  {
   "cell_type": "code",
   "execution_count": 5,
   "metadata": {},
   "outputs": [],
   "source": [
    "message = {\n",
    "            \"role\": \"user\",\n",
    "            \"content\": [\n",
    "                # {\n",
    "                #     \"type\": \"image\",\n",
    "                #     \"image\": image,\n",
    "                # },\n",
    "                {\n",
    "                    \"type\": \"text\",\n",
    "                    \"text\": prompt,\n",
    "                },\n",
    "            ],\n",
    "        }"
   ]
  },
  {
   "cell_type": "code",
   "execution_count": 6,
   "metadata": {},
   "outputs": [
    {
     "name": "stdout",
     "output_type": "stream",
     "text": [
      "Average time: 0.01992274664066456\n",
      "Average tokens per second: 50.19388230129313\n"
     ]
    }
   ],
   "source": [
    "response_len = []\n",
    "times = []\n",
    "\n",
    "for i in range(10):\n",
    "    start_time = time.time()\n",
    "    response = llm.generate([message])\n",
    "    end_time = time.time() - start_time\n",
    "    response_len.append(len(response.split()))\n",
    "    times.append(end_time)\n",
    "\n",
    "token_times = []\n",
    "for response_len, r_time in zip(response_len, times):\n",
    "    token_time = r_time / response_len\n",
    "    token_times.append(token_time)\n",
    "\n",
    "print(f\"Average time: {sum(token_times) / len(token_times)}\")\n",
    "print(f\"Average tokens per second: {1 / (sum(token_times) / len(token_times))}\")"
   ]
  },
  {
   "cell_type": "code",
   "execution_count": 7,
   "metadata": {},
   "outputs": [],
   "source": [
    "message = {\n",
    "            \"role\": \"user\",\n",
    "            \"content\": [\n",
    "                {\n",
    "                    \"type\": \"image\",\n",
    "                    \"image\": image,\n",
    "                },\n",
    "                {\n",
    "                    \"type\": \"text\",\n",
    "                    \"text\": prompt,\n",
    "                },\n",
    "            ],\n",
    "        }"
   ]
  },
  {
   "cell_type": "code",
   "execution_count": 8,
   "metadata": {},
   "outputs": [
    {
     "name": "stdout",
     "output_type": "stream",
     "text": [
      "Average time: 0.03098945422419186\n",
      "Average tokens per second: 32.26904200266141\n"
     ]
    }
   ],
   "source": [
    "response_len = []\n",
    "times = []\n",
    "\n",
    "for i in range(10):\n",
    "    start_time = time.time()\n",
    "    response = llm.generate([message])\n",
    "    end_time = time.time() - start_time\n",
    "    response_len.append(len(response.split()))\n",
    "    times.append(end_time)\n",
    "\n",
    "token_times = []\n",
    "for response_len, r_time in zip(response_len, times):\n",
    "    token_time = r_time / response_len\n",
    "    token_times.append(token_time)\n",
    "\n",
    "print(f\"Average time: {sum(token_times) / len(token_times)}\")\n",
    "print(f\"Average tokens per second: {1 / (sum(token_times) / len(token_times))}\")"
   ]
  }
 ],
 "metadata": {
  "kernelspec": {
   "display_name": "Python 3 (ipykernel)",
   "language": "python",
   "name": "python3"
  },
  "language_info": {
   "codemirror_mode": {
    "name": "ipython",
    "version": 3
   },
   "file_extension": ".py",
   "mimetype": "text/x-python",
   "name": "python",
   "nbconvert_exporter": "python",
   "pygments_lexer": "ipython3",
   "version": "3.11.10"
  }
 },
 "nbformat": 4,
 "nbformat_minor": 2
}
